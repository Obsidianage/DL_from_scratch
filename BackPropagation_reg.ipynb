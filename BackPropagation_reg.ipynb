{
 "cells": [
  {
   "cell_type": "code",
   "execution_count": 1,
   "metadata": {},
   "outputs": [],
   "source": [
    "import numpy as np\n",
    "import pandas as pd"
   ]
  },
  {
   "cell_type": "code",
   "execution_count": 2,
   "metadata": {},
   "outputs": [],
   "source": [
    "df = pd.DataFrame([[8,8,4],[7,9,5],[6,10,6],[5,12,7]],columns=['cgpa', 'profile_score', 'lpa'])"
   ]
  },
  {
   "cell_type": "code",
   "execution_count": 3,
   "metadata": {},
   "outputs": [
    {
     "data": {
      "text/html": [
       "<div>\n",
       "<style scoped>\n",
       "    .dataframe tbody tr th:only-of-type {\n",
       "        vertical-align: middle;\n",
       "    }\n",
       "\n",
       "    .dataframe tbody tr th {\n",
       "        vertical-align: top;\n",
       "    }\n",
       "\n",
       "    .dataframe thead th {\n",
       "        text-align: right;\n",
       "    }\n",
       "</style>\n",
       "<table border=\"1\" class=\"dataframe\">\n",
       "  <thead>\n",
       "    <tr style=\"text-align: right;\">\n",
       "      <th></th>\n",
       "      <th>cgpa</th>\n",
       "      <th>profile_score</th>\n",
       "      <th>lpa</th>\n",
       "    </tr>\n",
       "  </thead>\n",
       "  <tbody>\n",
       "    <tr>\n",
       "      <th>0</th>\n",
       "      <td>8</td>\n",
       "      <td>8</td>\n",
       "      <td>4</td>\n",
       "    </tr>\n",
       "    <tr>\n",
       "      <th>1</th>\n",
       "      <td>7</td>\n",
       "      <td>9</td>\n",
       "      <td>5</td>\n",
       "    </tr>\n",
       "    <tr>\n",
       "      <th>2</th>\n",
       "      <td>6</td>\n",
       "      <td>10</td>\n",
       "      <td>6</td>\n",
       "    </tr>\n",
       "    <tr>\n",
       "      <th>3</th>\n",
       "      <td>5</td>\n",
       "      <td>12</td>\n",
       "      <td>7</td>\n",
       "    </tr>\n",
       "  </tbody>\n",
       "</table>\n",
       "</div>"
      ],
      "text/plain": [
       "   cgpa  profile_score  lpa\n",
       "0     8              8    4\n",
       "1     7              9    5\n",
       "2     6             10    6\n",
       "3     5             12    7"
      ]
     },
     "execution_count": 3,
     "metadata": {},
     "output_type": "execute_result"
    }
   ],
   "source": [
    "df"
   ]
  },
  {
   "cell_type": "code",
   "execution_count": 4,
   "metadata": {},
   "outputs": [],
   "source": [
    "def initialize_parameters(layer_dimensions):\n",
    "    np.random.seed(3)\n",
    "    parameters = {}\n",
    "    L = len(layer_dimensions)\n",
    "\n",
    "    for l in range(1,L):\n",
    "        parameters['w'+str(l)] = np.ones((layer_dimensions[l-1],layer_dimensions[l]))* 0.1\n",
    "        parameters['b'+str(l)] = np.zeros((layer_dimensions[l],1))\n",
    "    return parameters"
   ]
  },
  {
   "cell_type": "code",
   "execution_count": 5,
   "metadata": {},
   "outputs": [
    {
     "data": {
      "text/plain": [
       "{'w1': array([[0.1, 0.1],\n",
       "        [0.1, 0.1]]),\n",
       " 'b1': array([[0.],\n",
       "        [0.]]),\n",
       " 'w2': array([[0.1],\n",
       "        [0.1]]),\n",
       " 'b2': array([[0.]])}"
      ]
     },
     "execution_count": 5,
     "metadata": {},
     "output_type": "execute_result"
    }
   ],
   "source": [
    "initialize_parameters([2,2,1])"
   ]
  },
  {
   "cell_type": "code",
   "execution_count": 6,
   "metadata": {},
   "outputs": [],
   "source": [
    "def linear_forward(A_prev,w,b):\n",
    "    z = np.dot(w.T,A_prev)+b\n",
    "    return z"
   ]
  },
  {
   "cell_type": "code",
   "execution_count": 7,
   "metadata": {},
   "outputs": [],
   "source": [
    "def L_layer_forward(x,parameters):\n",
    "\n",
    "    A = x\n",
    "    L = len(parameters)//2\n",
    "\n",
    "    for l in range(1,L+1):\n",
    "        A_prev = A\n",
    "        wl = parameters['w'+str(l)]\n",
    "        bl = parameters['b'+str(l)]\n",
    "        # print(\"A\"+str(l-1)+\": \", A_prev)\n",
    "        # print(\"w\"+str(l)+\": \",wl)\n",
    "        # print(\"b\"+str(l)+\": \",bl)\n",
    "        # print(\"--\"*20)\n",
    "\n",
    "        A = linear_forward(A_prev,wl,bl)\n",
    "        # print(\"A\"+str(l)+\": \",A)\n",
    "        # print(\"**\"*20)\n",
    "\n",
    "    return A,A_prev\n"
   ]
  },
  {
   "cell_type": "code",
   "execution_count": 8,
   "metadata": {},
   "outputs": [],
   "source": [
    "x = df[['cgpa','profile_score']].values[0].reshape(2,1)\n",
    "y = df[['lpa']].values[0][0]\n",
    "\n",
    "parameters = initialize_parameters([2,2,1])\n",
    "\n",
    "y_hat,A1 = L_layer_forward(x,parameters)"
   ]
  },
  {
   "cell_type": "code",
   "execution_count": 9,
   "metadata": {},
   "outputs": [
    {
     "name": "stdout",
     "output_type": "stream",
     "text": [
      "[[0.32]] [[1.6]\n",
      " [1.6]]\n"
     ]
    }
   ],
   "source": [
    "print(y_hat,A1)"
   ]
  },
  {
   "cell_type": "code",
   "execution_count": 10,
   "metadata": {},
   "outputs": [],
   "source": [
    "y_hat = y_hat[0][0]"
   ]
  },
  {
   "cell_type": "code",
   "execution_count": 11,
   "metadata": {},
   "outputs": [
    {
     "data": {
      "text/plain": [
       "0.32000000000000006"
      ]
     },
     "execution_count": 11,
     "metadata": {},
     "output_type": "execute_result"
    }
   ],
   "source": [
    "y_hat"
   ]
  },
  {
   "cell_type": "code",
   "execution_count": 12,
   "metadata": {},
   "outputs": [
    {
     "data": {
      "text/plain": [
       "array([[1.6],\n",
       "       [1.6]])"
      ]
     },
     "execution_count": 12,
     "metadata": {},
     "output_type": "execute_result"
    }
   ],
   "source": [
    "A1"
   ]
  },
  {
   "cell_type": "code",
   "execution_count": 13,
   "metadata": {},
   "outputs": [],
   "source": [
    "lr = 0.001\n",
    "def update_parameters(parameters,y,y_hat,A1,x):\n",
    "    parameters['w2'][0][0] += (lr* 2 * (y-y_hat)*A1[0][0])\n",
    "    parameters['w2'][1][0] += (lr* 2 * (y-y_hat)*A1[1][0])\n",
    "    parameters['b2'][0][0] += (lr* 2 * (y-y_hat))\n",
    "\n",
    "    parameters['w1'][0][0] += (lr*2*(y-y_hat)*parameters['w2'][0][0]*x[0][0]) \n",
    "    parameters['w1'][0][1] += (lr*2*(y-y_hat)*parameters['w2'][0][0]*x[1][0])\n",
    "    parameters['b1'][0][0] += (lr*2*(y-y_hat)*parameters['w2'][0][0])\n",
    "\n",
    "    parameters['w1'][1][0] += (lr*2*(y-y_hat)*parameters['w2'][1][0]*x[0][0])\n",
    "    parameters['w1'][1][1] += (lr*2*(y-y_hat)*parameters['w2'][1][0]*x[1][0])\n",
    "    parameters['b1'][1][0] += (lr*2*(y-y_hat)*parameters['w2'][1][0])"
   ]
  },
  {
   "cell_type": "code",
   "execution_count": 14,
   "metadata": {},
   "outputs": [],
   "source": [
    "update_parameters(parameters,y,y_hat,A1,x)"
   ]
  },
  {
   "cell_type": "code",
   "execution_count": 15,
   "metadata": {},
   "outputs": [
    {
     "data": {
      "text/plain": [
       "{'w1': array([[0.10658137, 0.10658137],\n",
       "        [0.10658137, 0.10658137]]),\n",
       " 'b1': array([[0.00082267],\n",
       "        [0.00082267]]),\n",
       " 'w2': array([[0.111776],\n",
       "        [0.111776]]),\n",
       " 'b2': array([[0.00736]])}"
      ]
     },
     "execution_count": 15,
     "metadata": {},
     "output_type": "execute_result"
    }
   ],
   "source": [
    "parameters"
   ]
  },
  {
   "cell_type": "code",
   "execution_count": 16,
   "metadata": {},
   "outputs": [],
   "source": [
    "x = df[['cgpa', 'profile_score']].values[3].reshape(2,1) # Shape(no of features, no. of training example)\n",
    "y = df[['lpa']].values[3][0]\n",
    "\n",
    "y_hat,A1 = L_layer_forward(x, parameters)"
   ]
  },
  {
   "cell_type": "code",
   "execution_count": 17,
   "metadata": {},
   "outputs": [],
   "source": [
    "update_parameters(parameters,y,y_hat,A1,x)"
   ]
  },
  {
   "cell_type": "code",
   "execution_count": 18,
   "metadata": {},
   "outputs": [
    {
     "data": {
      "text/plain": [
       "{'w1': array([[0.11551772, 0.1280286 ],\n",
       "        [0.11551772, 0.1280286 ]]),\n",
       " 'b1': array([[0.00260994],\n",
       "        [0.00260994]]),\n",
       " 'w2': array([[0.13565806],\n",
       "        [0.13565806]]),\n",
       " 'b2': array([[0.02053481]])}"
      ]
     },
     "execution_count": 18,
     "metadata": {},
     "output_type": "execute_result"
    }
   ],
   "source": [
    "parameters"
   ]
  },
  {
   "cell_type": "code",
   "execution_count": 19,
   "metadata": {},
   "outputs": [
    {
     "data": {
      "text/plain": [
       "{'w1': array([[0.12499579, 0.1402147 ],\n",
       "        [0.12510679, 0.14035741]]),\n",
       " 'b1': array([[0.00396395],\n",
       "        [0.00397981]]),\n",
       " 'w2': array([[0.1521315 ],\n",
       "        [0.15391311]]),\n",
       " 'b2': array([[0.02943508]])}"
      ]
     },
     "execution_count": 19,
     "metadata": {},
     "output_type": "execute_result"
    }
   ],
   "source": [
    "X = df[['cgpa', 'profile_score']].values[1].reshape(2,1) # Shape(no of features, no. of training exaplme)\n",
    "y = df[['lpa']].values[1][0]\n",
    "\n",
    "y_hat,A1 = L_layer_forward(X,parameters)\n",
    "y_hat = y_hat[0][0]\n",
    "\n",
    "update_parameters(parameters,y,y_hat,A1,X)\n",
    "\n",
    "parameters"
   ]
  },
  {
   "cell_type": "code",
   "execution_count": 20,
   "metadata": {},
   "outputs": [
    {
     "data": {
      "text/plain": [
       "{'w1': array([[0.13606841, 0.15866907],\n",
       "        [0.13645873, 0.15927731]]),\n",
       " 'b1': array([[0.00580939],\n",
       "        [0.0058718 ]]),\n",
       " 'w2': array([[0.17346242],\n",
       "        [0.17783815]]),\n",
       " 'b2': array([[0.04007391]])}"
      ]
     },
     "execution_count": 20,
     "metadata": {},
     "output_type": "execute_result"
    }
   ],
   "source": [
    "X = df[['cgpa', 'profile_score']].values[2].reshape(2,1) # Shape(no of features, no. of training exaplme)\n",
    "y = df[['lpa']].values[2][0]\n",
    "\n",
    "y_hat,A1 = L_layer_forward(X,parameters)\n",
    "y_hat = y_hat[0][0]\n",
    "\n",
    "update_parameters(parameters,y,y_hat,A1,X)\n",
    "\n",
    "parameters"
   ]
  },
  {
   "cell_type": "code",
   "execution_count": 27,
   "metadata": {},
   "outputs": [
    {
     "name": "stdout",
     "output_type": "stream",
     "text": [
      "Epoch -  1 Loss -  25.99322584651122\n",
      "Epoch -  2 Loss -  18.482812408486254\n",
      "Epoch -  3 Loss -  8.650470728260157\n",
      "Epoch -  4 Loss -  2.661634566323457\n",
      "Epoch -  5 Loss -  1.4747491653776694\n"
     ]
    },
    {
     "data": {
      "text/plain": [
       "{'w1': array([[0.22853626, 0.40848701],\n",
       "        [0.25106236, 0.46254967]]),\n",
       " 'b1': array([[0.02570725],\n",
       "        [0.03021247]]),\n",
       " 'w2': array([[0.38524192],\n",
       "        [0.51818932]]),\n",
       " 'b2': array([[0.11135651]])}"
      ]
     },
     "execution_count": 27,
     "metadata": {},
     "output_type": "execute_result"
    }
   ],
   "source": [
    "parameters = initialize_parameters([2,2,1])\n",
    "epochs = 5\n",
    "\n",
    "for i in range(epochs):\n",
    "    loss = []\n",
    "\n",
    "    for j in range(df.shape[0]):\n",
    "\n",
    "        X = df[['cgpa', 'profile_score']].values[j].reshape(2,1)\n",
    "        y = df[['lpa']].values[j][0]\n",
    "\n",
    "\n",
    "        y_hat,A1 = L_layer_forward(x,parameters)\n",
    "        y_hat = y_hat[0][0]\n",
    "\n",
    "        update_parameters(parameters,y,y_hat,A1,x)\n",
    "\n",
    "        loss.append((y-y_hat)**2)\n",
    "    print('Epoch - ',i+1,'Loss - ',np.array(loss).mean())\n",
    "parameters"
   ]
  },
  {
   "cell_type": "code",
   "execution_count": null,
   "metadata": {},
   "outputs": [],
   "source": []
  }
 ],
 "metadata": {
  "kernelspec": {
   "display_name": "Python 3",
   "language": "python",
   "name": "python3"
  },
  "language_info": {
   "codemirror_mode": {
    "name": "ipython",
    "version": 3
   },
   "file_extension": ".py",
   "mimetype": "text/x-python",
   "name": "python",
   "nbconvert_exporter": "python",
   "pygments_lexer": "ipython3",
   "version": "3.10.9"
  }
 },
 "nbformat": 4,
 "nbformat_minor": 2
}
